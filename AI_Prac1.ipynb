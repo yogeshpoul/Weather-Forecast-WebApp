{
 "cells": [
  {
   "cell_type": "code",
   "execution_count": 6,
   "id": "98382647",
   "metadata": {},
   "outputs": [],
   "source": [
    "graph={\n",
    "    '5':['3','7'],\n",
    "    '3':['2','4'],\n",
    "    '7':['8'],\n",
    "    '2':[],\n",
    "    '4':['8'],\n",
    "    '8':[]\n",
    "}"
   ]
  },
  {
   "cell_type": "code",
   "execution_count": 10,
   "id": "59928ae5",
   "metadata": {},
   "outputs": [
    {
     "name": "stdout",
     "output_type": "stream",
     "text": [
      "5\n",
      "3\n",
      "7\n",
      "2\n",
      "4\n",
      "8\n"
     ]
    }
   ],
   "source": [
    "q=[]\n",
    "visited=[]\n",
    "def bfs(visited,graph,node):\n",
    "    q.append(node) #q=[5]\n",
    "    visited.append(node) # visited=[5]\n",
    "    \n",
    "    while q:\n",
    "        m=q.pop(0) #m=5,q=[]\n",
    "        print(m) #m=5\n",
    "        for neighbour in graph[m]:\n",
    "            if neighbour not in visited:\n",
    "                q.append(neighbour) #q=['3','7']\n",
    "                visited.append(neighbour) #visited=['5',3','7']\n",
    "                \n",
    "bfs(visited,graph,'5')\n",
    "                \n",
    "    "
   ]
  },
  {
   "cell_type": "code",
   "execution_count": 17,
   "id": "184a12ba",
   "metadata": {},
   "outputs": [
    {
     "name": "stdout",
     "output_type": "stream",
     "text": [
      "5\n",
      "3\n",
      "2\n",
      "4\n",
      "8\n",
      "7\n"
     ]
    }
   ],
   "source": [
    "visited=set()\n",
    "def  dfs(visited,graph,node):\n",
    "    if node not in visited: #node=5\n",
    "        print(node) #5\n",
    "        visited.add(node) #visited={5}\n",
    "        for neighbour in graph[node]: \n",
    "            dfs(visited,graph,neighbour)\n",
    "dfs(visited,graph,'5')"
   ]
  },
  {
   "cell_type": "code",
   "execution_count": 1,
   "id": "7b787f65",
   "metadata": {},
   "outputs": [
    {
     "data": {
      "text/plain": [
       "[1, 2, 3, 4, 5, 6, 7, 8]"
      ]
     },
     "execution_count": 1,
     "metadata": {},
     "output_type": "execute_result"
    }
   ],
   "source": [
    "def greedy_selection_sort(arr):\n",
    "    \n",
    "    for i in range(len(arr)-1):   #i=0 \n",
    "        min_idx = i #min_idx=0\n",
    "        \n",
    "        for j in range(i + 1, len(arr)): #j=1\n",
    "            if arr[j] < arr[min_idx]: #arr[j]=arr[1]=2 < arr[min_idx]=arr[0]=3\n",
    "                min_idx = j  #min_idx=j=1\n",
    "                \n",
    "        arr[i], arr[min_idx] = arr[min_idx], arr[i]\n",
    "        \n",
    "    return arr\n",
    "\n",
    "arr=[3,2,1,5,4,7,8,6]\n",
    "greedy_selection_sort(arr)"
   ]
  },
  {
   "cell_type": "code",
   "execution_count": null,
   "id": "eea6e54f",
   "metadata": {},
   "outputs": [],
   "source": [
    "import random\n",
    "responses={\n",
    "    'hi':['hello','hey, hii what can i help you'],\n",
    "    'what is your name':['my name is chat bot','myself chatbot developed by yogesh']\n",
    "}\n",
    "\n",
    "def chatbot():\n",
    "    #print(random.choice(responses['hi']))\n",
    "    \n",
    "    while True:\n",
    "        message=input('> ')\n",
    "        if 'hi' in message.lower():\n",
    "            print(random.choice(responses['hi']))\n",
    "    \n",
    "chatbot()"
   ]
  }
 ],
 "metadata": {
  "kernelspec": {
   "display_name": "Python 3 (ipykernel)",
   "language": "python",
   "name": "python3"
  },
  "language_info": {
   "codemirror_mode": {
    "name": "ipython",
    "version": 3
   },
   "file_extension": ".py",
   "mimetype": "text/x-python",
   "name": "python",
   "nbconvert_exporter": "python",
   "pygments_lexer": "ipython3",
   "version": "3.10.9"
  }
 },
 "nbformat": 4,
 "nbformat_minor": 5
}
